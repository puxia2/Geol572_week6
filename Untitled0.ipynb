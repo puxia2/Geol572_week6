{
  "nbformat": 4,
  "nbformat_minor": 0,
  "metadata": {
    "colab": {
      "name": "Untitled0.ipynb",
      "provenance": [],
      "authorship_tag": "ABX9TyNCAsH3PXY+58gB2cm63NbN",
      "include_colab_link": true
    },
    "kernelspec": {
      "name": "python3",
      "display_name": "Python 3"
    }
  },
  "cells": [
    {
      "cell_type": "markdown",
      "metadata": {
        "id": "view-in-github",
        "colab_type": "text"
      },
      "source": [
        "<a href=\"https://colab.research.google.com/github/puxia2/Geol572_week6/blob/master/Untitled0.ipynb\" target=\"_parent\"><img src=\"https://colab.research.google.com/assets/colab-badge.svg\" alt=\"Open In Colab\"/></a>"
      ]
    },
    {
      "cell_type": "markdown",
      "metadata": {
        "id": "Z5bcp6_wElYd",
        "colab_type": "text"
      },
      "source": [
        "# Reading data from online web services"
      ]
    },
    {
      "cell_type": "code",
      "metadata": {
        "id": "ZmmqxuFpE26S",
        "colab_type": "code",
        "colab": {}
      },
      "source": [
        "import matplotlib.pyplot as plt\n",
        "import pandas as pd\n",
        "# import data from online\n",
        "import urllib, json\n",
        "from datetime import datetime\n",
        "%matplotlib inline"
      ],
      "execution_count": 0,
      "outputs": []
    },
    {
      "cell_type": "code",
      "metadata": {
        "id": "w3sA2EIzFJUf",
        "colab_type": "code",
        "colab": {
          "base_uri": "https://localhost:8080/",
          "height": 34
        },
        "outputId": "e9423991-2b38-4d07-c3ff-0ff08e1e4929"
      },
      "source": [
        "# Example Dictionary: Big Ten Champions\n",
        "B10Champs = {'2014': ['Ohio State','14-1'], '2015': ['Michigan State','12-2'], '2016': ['Penn State','11-3'], '2017': ['Ohio State','12-2'], '2018': ['Ohio State','13-1']}\n",
        "print(B10Champs)"
      ],
      "execution_count": 2,
      "outputs": [
        {
          "output_type": "stream",
          "text": [
            "{'2014': ['Ohio State', '14-1'], '2015': ['Michigan State', '12-2'], '2016': ['Penn State', '11-3'], '2017': ['Ohio State', '12-2'], '2018': ['Ohio State', '13-1']}\n"
          ],
          "name": "stdout"
        }
      ]
    },
    {
      "cell_type": "code",
      "metadata": {
        "id": "H-XIq8QKFelf",
        "colab_type": "code",
        "colab": {
          "base_uri": "https://localhost:8080/",
          "height": 34
        },
        "outputId": "acbb97cd-93b0-49cf-9263-428cda209052"
      },
      "source": [
        "print(B10Champs['2014'])"
      ],
      "execution_count": 3,
      "outputs": [
        {
          "output_type": "stream",
          "text": [
            "['Ohio State', '14-1']\n"
          ],
          "name": "stdout"
        }
      ]
    },
    {
      "cell_type": "code",
      "metadata": {
        "id": "wED5lY2OFwQP",
        "colab_type": "code",
        "colab": {
          "base_uri": "https://localhost:8080/",
          "height": 102
        },
        "outputId": "946d0d82-a6d6-4537-dc7c-3fcc8708960e"
      },
      "source": [
        "for key, value in B10Champs.items():\n",
        "  print('The',key,'Big 10 Football Champion was',value[0],'with a record of',value[1])"
      ],
      "execution_count": 4,
      "outputs": [
        {
          "output_type": "stream",
          "text": [
            "The 2014 Big 10 Football Champion was Ohio State with a record of 14-1\n",
            "The 2015 Big 10 Football Champion was Michigan State with a record of 12-2\n",
            "The 2016 Big 10 Football Champion was Penn State with a record of 11-3\n",
            "The 2017 Big 10 Football Champion was Ohio State with a record of 12-2\n",
            "The 2018 Big 10 Football Champion was Ohio State with a record of 13-1\n"
          ],
          "name": "stdout"
        }
      ]
    },
    {
      "cell_type": "markdown",
      "metadata": {
        "id": "fUczry9mHdwu",
        "colab_type": "text"
      },
      "source": [
        "# Obtain USGS real-time data"
      ]
    },
    {
      "cell_type": "code",
      "metadata": {
        "id": "B-4p7QJVHl_I",
        "colab_type": "code",
        "colab": {
          "base_uri": "https://localhost:8080/",
          "height": 34
        },
        "outputId": "2f7f536e-1f25-489f-e4c0-793938590704"
      },
      "source": [
        "SiteNum = '413743089310102'\n",
        "USGSparameter = '72019'\n",
        "period_of_days = \"500\"\n",
        "\n",
        "url = 'https://waterservices.usgs.gov/nwis/iv/?format=json&sites='+SiteNum+ '&period=P'+period_of_days +'D&parameterCd=' + USGSparameter + '&siteStatus=all'\n",
        "print(url)"
      ],
      "execution_count": 8,
      "outputs": [
        {
          "output_type": "stream",
          "text": [
            "https://waterservices.usgs.gov/nwis/iv/?format=json&sites=413743089310102&period=P500D&parameterCd=72019&siteStatus=all\n"
          ],
          "name": "stdout"
        }
      ]
    },
    {
      "cell_type": "code",
      "metadata": {
        "id": "9llUzAx3MiJ-",
        "colab_type": "code",
        "colab": {
          "base_uri": "https://localhost:8080/",
          "height": 34
        },
        "outputId": "842c7ffa-fdf9-476d-b93b-7b618343ec9d"
      },
      "source": [
        "# open the URL\n",
        "response = urllib.request.urlopen(url)\n",
        "# read the data in as a dictionary\n",
        "gw_data = json.loads(response.read())\n",
        "print(response)"
      ],
      "execution_count": 11,
      "outputs": [
        {
          "output_type": "stream",
          "text": [
            "<http.client.HTTPResponse object at 0x7fd37079e6a0>\n"
          ],
          "name": "stdout"
        }
      ]
    }
  ]
}